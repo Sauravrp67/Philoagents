{
 "cells": [
  {
   "cell_type": "markdown",
   "id": "da035c08",
   "metadata": {},
   "source": [
    "## Some random stuff in python"
   ]
  },
  {
   "cell_type": "markdown",
   "id": "7aa8ee64",
   "metadata": {},
   "source": [
    "### TypedDict"
   ]
  },
  {
   "cell_type": "code",
   "execution_count": 1,
   "id": "1ec11ece",
   "metadata": {},
   "outputs": [],
   "source": [
    "from typing_extensions import TypedDict"
   ]
  },
  {
   "cell_type": "code",
   "execution_count": 2,
   "id": "9b7ed355",
   "metadata": {},
   "outputs": [],
   "source": [
    "class Message(TypedDict):\n",
    "    message: str"
   ]
  },
  {
   "cell_type": "code",
   "execution_count": 9,
   "id": "cb8156f4",
   "metadata": {},
   "outputs": [],
   "source": [
    "class State(Message):\n",
    "    summary:str"
   ]
  },
  {
   "cell_type": "code",
   "execution_count": 12,
   "id": "53cbc6d7",
   "metadata": {},
   "outputs": [],
   "source": [
    "msg1:State = {\"message\":\"So this is an instantiation of typedict which was in of itself inherited by Message which then was inherited by State\",\"summary\":\"This is just a summary\"}"
   ]
  },
  {
   "cell_type": "markdown",
   "id": "9a8fc0ca",
   "metadata": {},
   "source": [
    "### Literal Type"
   ]
  },
  {
   "cell_type": "code",
   "execution_count": 14,
   "id": "0bc4c6c1",
   "metadata": {},
   "outputs": [],
   "source": [
    "from typing_extensions import TypeAlias,Literal"
   ]
  },
  {
   "cell_type": "code",
   "execution_count": 15,
   "id": "bd706fa9",
   "metadata": {},
   "outputs": [],
   "source": [
    "Mode: TypeAlias = Literal['r','w','a']"
   ]
  },
  {
   "cell_type": "code",
   "execution_count": 16,
   "id": "d72ca1ff",
   "metadata": {},
   "outputs": [],
   "source": [
    "def open_file(file: str,mode:Mode) -> str:\n",
    "    return f\"Editing {file} in {mode} mode\""
   ]
  },
  {
   "cell_type": "code",
   "execution_count": 19,
   "id": "1890bfbf",
   "metadata": {},
   "outputs": [],
   "source": [
    "output = open_file(\"abc.txt\", 'T')"
   ]
  },
  {
   "cell_type": "markdown",
   "id": "944172f1",
   "metadata": {},
   "source": [
    "### Modifying a list inside an function object"
   ]
  },
  {
   "cell_type": "code",
   "execution_count": 21,
   "id": "32cdda50",
   "metadata": {},
   "outputs": [],
   "source": [
    "def add_two_to_list(my_list = []):\n",
    "    my_list.append(2)\n",
    "    return my_list"
   ]
  },
  {
   "cell_type": "code",
   "execution_count": 22,
   "id": "841b57b5",
   "metadata": {},
   "outputs": [],
   "source": [
    "first = add_two_to_list()"
   ]
  },
  {
   "cell_type": "code",
   "execution_count": 29,
   "id": "c998954f",
   "metadata": {},
   "outputs": [
    {
     "data": {
      "text/plain": [
       "'0x7c5488105480'"
      ]
     },
     "execution_count": 29,
     "metadata": {},
     "output_type": "execute_result"
    }
   ],
   "source": [
    "hex(id(first))"
   ]
  },
  {
   "cell_type": "code",
   "execution_count": 24,
   "id": "30dd7c9a",
   "metadata": {},
   "outputs": [],
   "source": [
    "second = add_two_to_list()"
   ]
  },
  {
   "cell_type": "code",
   "execution_count": 30,
   "id": "e4648881",
   "metadata": {},
   "outputs": [
    {
     "data": {
      "text/plain": [
       "'0x7c5488105480'"
      ]
     },
     "execution_count": 30,
     "metadata": {},
     "output_type": "execute_result"
    }
   ],
   "source": [
    "hex(id(second))"
   ]
  },
  {
   "cell_type": "markdown",
   "id": "c92eb78b",
   "metadata": {},
   "source": [
    "This behaviour is same for all mutable objects like list, dictionary, sets and bytearrays. To be more precise, this behaviour happens only because list is an immutable object. This cannot happen if we used immutable objects like integer and strings. "
   ]
  },
  {
   "cell_type": "markdown",
   "id": "113d671e",
   "metadata": {},
   "source": [
    "### Annotaed Typing Extension"
   ]
  },
  {
   "cell_type": "code",
   "execution_count": 39,
   "id": "4223f987",
   "metadata": {},
   "outputs": [],
   "source": [
    "from typing_extensions import Annotated, TypeVar, get_type_hints, get_args"
   ]
  },
  {
   "cell_type": "markdown",
   "id": "56656994",
   "metadata": {},
   "source": [
    "#### Adds a context-specific metadata to a type\n",
    "What it really does is attach additional behaviours like validation,constraints,schema info, etc to a type without changing what the type is at runtime."
   ]
  },
  {
   "cell_type": "code",
   "execution_count": 40,
   "id": "5f330631",
   "metadata": {},
   "outputs": [],
   "source": [
    "T = TypeVar(\"T\")"
   ]
  },
  {
   "cell_type": "code",
   "execution_count": null,
   "id": "ba590c46",
   "metadata": {},
   "outputs": [],
   "source": [
    "class Checker:\n",
    "    def __call__(self,value):\n",
    "        print(f\"Checking {value}\")\n",
    "        if not isinstance(value, (int,float)):\n",
    "            raise TypeError(\"Value must be numeric\")\n",
    "        if value < 0:\n",
    "            raise ValueError(\"Value Cannot be negative\")\n",
    "        return value\n"
   ]
  },
  {
   "cell_type": "code",
   "execution_count": 70,
   "id": "3513bea3",
   "metadata": {},
   "outputs": [],
   "source": [
    "Checked: TypeAlias = Annotated[T,Checker()]"
   ]
  },
  {
   "cell_type": "code",
   "execution_count": 71,
   "id": "c1123982",
   "metadata": {},
   "outputs": [],
   "source": [
    "def optimize(x:Checked[T]) -> T:\n",
    "    hints = get_type_hints(optimize,include_extras=True)\n",
    "    annotated_type = hints[\"x\"]\n",
    "    print(annotated_type)\n",
    "    base_type,checker = get_args(annotated_type)\n",
    "    checker(x)\n",
    "    print(\"Optimization Complete\")\n",
    "    return x\n",
    "    \n",
    "    "
   ]
  },
  {
   "cell_type": "code",
   "execution_count": 75,
   "id": "e12a5d21",
   "metadata": {},
   "outputs": [
    {
     "name": "stdout",
     "output_type": "stream",
     "text": [
      "typing.Annotated[~T, <__main__.Checker object at 0x7c54881c6ba0>]\n",
      "Checking 5\n",
      "Optimization Complete\n"
     ]
    },
    {
     "data": {
      "text/plain": [
       "5"
      ]
     },
     "execution_count": 75,
     "metadata": {},
     "output_type": "execute_result"
    }
   ],
   "source": [
    "optimize(5)"
   ]
  },
  {
   "cell_type": "markdown",
   "id": "5554522e",
   "metadata": {},
   "source": []
  }
 ],
 "metadata": {
  "kernelspec": {
   "display_name": "base",
   "language": "python",
   "name": "python3"
  },
  "language_info": {
   "codemirror_mode": {
    "name": "ipython",
    "version": 3
   },
   "file_extension": ".py",
   "mimetype": "text/x-python",
   "name": "python",
   "nbconvert_exporter": "python",
   "pygments_lexer": "ipython3",
   "version": "3.13.7"
  }
 },
 "nbformat": 4,
 "nbformat_minor": 5
}
