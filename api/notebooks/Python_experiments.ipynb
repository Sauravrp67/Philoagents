{
 "cells": [
  {
   "cell_type": "markdown",
   "id": "da035c08",
   "metadata": {},
   "source": [
    "## Some random stuff in python"
   ]
  },
  {
   "cell_type": "markdown",
   "id": "7aa8ee64",
   "metadata": {},
   "source": [
    "### TypedDict"
   ]
  },
  {
   "cell_type": "code",
   "execution_count": 1,
   "id": "1ec11ece",
   "metadata": {},
   "outputs": [],
   "source": [
    "from typing_extensions import TypedDict"
   ]
  },
  {
   "cell_type": "code",
   "execution_count": 2,
   "id": "9b7ed355",
   "metadata": {},
   "outputs": [],
   "source": [
    "class Message(TypedDict):\n",
    "    message: str"
   ]
  },
  {
   "cell_type": "code",
   "execution_count": 3,
   "id": "cb8156f4",
   "metadata": {},
   "outputs": [],
   "source": [
    "class State(Message):\n",
    "    summary:str"
   ]
  },
  {
   "cell_type": "code",
   "execution_count": 4,
   "id": "53cbc6d7",
   "metadata": {},
   "outputs": [],
   "source": [
    "msg1:State = {\"message\":\"So this is an instantiation of typedict which was in of itself inherited by Message which then was inherited by State\",\"summary\":\"This is just a summary\"}"
   ]
  },
  {
   "cell_type": "markdown",
   "id": "9a8fc0ca",
   "metadata": {},
   "source": [
    "### Literal Type"
   ]
  },
  {
   "cell_type": "code",
   "execution_count": 5,
   "id": "0bc4c6c1",
   "metadata": {},
   "outputs": [],
   "source": [
    "from typing_extensions import TypeAlias,Literal"
   ]
  },
  {
   "cell_type": "code",
   "execution_count": 6,
   "id": "bd706fa9",
   "metadata": {},
   "outputs": [],
   "source": [
    "Mode: TypeAlias = Literal['r','w','a']"
   ]
  },
  {
   "cell_type": "code",
   "execution_count": 7,
   "id": "d72ca1ff",
   "metadata": {},
   "outputs": [],
   "source": [
    "def open_file(file: str,mode:Mode) -> str:\n",
    "    return f\"Editing {file} in {mode} mode\""
   ]
  },
  {
   "cell_type": "code",
   "execution_count": 8,
   "id": "1890bfbf",
   "metadata": {},
   "outputs": [],
   "source": [
    "output = open_file(\"abc.txt\", 'T')"
   ]
  },
  {
   "cell_type": "markdown",
   "id": "944172f1",
   "metadata": {},
   "source": [
    "### Modifying a list inside an function object"
   ]
  },
  {
   "cell_type": "code",
   "execution_count": 9,
   "id": "32cdda50",
   "metadata": {},
   "outputs": [],
   "source": [
    "def add_two_to_list(my_list = []):\n",
    "    my_list.append(2)\n",
    "    return my_list"
   ]
  },
  {
   "cell_type": "code",
   "execution_count": 10,
   "id": "841b57b5",
   "metadata": {},
   "outputs": [],
   "source": [
    "first = add_two_to_list()"
   ]
  },
  {
   "cell_type": "code",
   "execution_count": 11,
   "id": "c998954f",
   "metadata": {},
   "outputs": [
    {
     "data": {
      "text/plain": [
       "'0x7ba859780500'"
      ]
     },
     "execution_count": 11,
     "metadata": {},
     "output_type": "execute_result"
    }
   ],
   "source": [
    "hex(id(first))"
   ]
  },
  {
   "cell_type": "code",
   "execution_count": 12,
   "id": "30dd7c9a",
   "metadata": {},
   "outputs": [],
   "source": [
    "second = add_two_to_list()"
   ]
  },
  {
   "cell_type": "code",
   "execution_count": 13,
   "id": "e4648881",
   "metadata": {},
   "outputs": [
    {
     "data": {
      "text/plain": [
       "'0x7ba859780500'"
      ]
     },
     "execution_count": 13,
     "metadata": {},
     "output_type": "execute_result"
    }
   ],
   "source": [
    "hex(id(second))"
   ]
  },
  {
   "cell_type": "markdown",
   "id": "c92eb78b",
   "metadata": {},
   "source": [
    "This behaviour is same for all mutable objects like list, dictionary, sets and bytearrays. To be more precise, this behaviour happens only because list is an immutable object. This cannot happen if we used immutable objects like integer and strings. "
   ]
  },
  {
   "cell_type": "markdown",
   "id": "113d671e",
   "metadata": {},
   "source": [
    "### Annotaed Typing Extension"
   ]
  },
  {
   "cell_type": "code",
   "execution_count": 14,
   "id": "4223f987",
   "metadata": {},
   "outputs": [],
   "source": [
    "from typing_extensions import Annotated, TypeVar, get_type_hints, get_args"
   ]
  },
  {
   "cell_type": "markdown",
   "id": "56656994",
   "metadata": {},
   "source": [
    "#### Adds a context-specific metadata to a type\n",
    "What it really does is attach additional behaviours like validation,constraints,schema info, etc to a type without changing what the type is at runtime."
   ]
  },
  {
   "cell_type": "code",
   "execution_count": 15,
   "id": "5f330631",
   "metadata": {},
   "outputs": [],
   "source": [
    "T = TypeVar(\"T\")"
   ]
  },
  {
   "cell_type": "code",
   "execution_count": 16,
   "id": "ba590c46",
   "metadata": {},
   "outputs": [],
   "source": [
    "class Checker:\n",
    "    def __call__(self,value):\n",
    "        print(f\"Checking {value}\")\n",
    "        if not isinstance(value, (int,float)):\n",
    "            raise TypeError(\"Value must be numeric\")\n",
    "        if value < 0:\n",
    "            raise ValueError(\"Value Cannot be negative\")\n",
    "        return value\n"
   ]
  },
  {
   "cell_type": "code",
   "execution_count": 17,
   "id": "3513bea3",
   "metadata": {},
   "outputs": [],
   "source": [
    "Checked: TypeAlias = Annotated[T,Checker()]"
   ]
  },
  {
   "cell_type": "code",
   "execution_count": 18,
   "id": "c1123982",
   "metadata": {},
   "outputs": [],
   "source": [
    "def optimize(x:Checked[T]) -> T:\n",
    "    hints = get_type_hints(optimize,include_extras=True)\n",
    "    annotated_type = hints[\"x\"]\n",
    "    print(annotated_type)\n",
    "    base_type,checker = get_args(annotated_type)\n",
    "    checker(x)\n",
    "    print(\"Optimization Complete\")\n",
    "    return x\n",
    "    \n",
    "    "
   ]
  },
  {
   "cell_type": "code",
   "execution_count": 19,
   "id": "e12a5d21",
   "metadata": {},
   "outputs": [
    {
     "name": "stdout",
     "output_type": "stream",
     "text": [
      "typing.Annotated[~T, <__main__.Checker object at 0x7ba859772f90>]\n",
      "Checking 5\n",
      "Optimization Complete\n"
     ]
    },
    {
     "data": {
      "text/plain": [
       "5"
      ]
     },
     "execution_count": 19,
     "metadata": {},
     "output_type": "execute_result"
    }
   ],
   "source": [
    "optimize(5)"
   ]
  },
  {
   "cell_type": "markdown",
   "id": "5554522e",
   "metadata": {},
   "source": [
    "### LRU Cache"
   ]
  },
  {
   "cell_type": "code",
   "execution_count": 44,
   "id": "1cfe5576",
   "metadata": {},
   "outputs": [],
   "source": [
    "from functools import lru_cache\n",
    "import time\n",
    "\n",
    "@lru_cache(maxsize = 128,typed = False)\n",
    "def count_vowels(sentence: str) -> int:\n",
    "    return sum(sentence.count(vowel) for vowel in \"AEIOUaeiou\")"
   ]
  },
  {
   "cell_type": "code",
   "execution_count": 45,
   "id": "bc419d52",
   "metadata": {},
   "outputs": [],
   "source": [
    "def main() -> None:\n",
    "    sentences: list[str] = [\"Hello, world!\",\n",
    "                            \"I dunno, must be a king\",\n",
    "                            \"We are there wise men.\"]\n",
    "    \n",
    "    for sentence in sentences:\n",
    "        for i in range(1_000_000):\n",
    "            count_vowels(sentence)"
   ]
  },
  {
   "cell_type": "code",
   "execution_count": 47,
   "id": "af3055bd",
   "metadata": {},
   "outputs": [
    {
     "name": "stdout",
     "output_type": "stream",
     "text": [
      "0.0950675099993532\n",
      "CacheInfo(hits=5999997, misses=3, maxsize=128, currsize=3)\n",
      "CacheInfo(hits=0, misses=0, maxsize=128, currsize=0)\n"
     ]
    }
   ],
   "source": [
    "start = time.perf_counter()\n",
    "main()\n",
    "end = time.perf_counter()\n",
    "\n",
    "elasped = (end - start)\n",
    "print(elasped)\n",
    "print(count_vowels.cache_info())\n",
    "count_vowels.cache_clear()\n",
    "print(count_vowels.cache_info())"
   ]
  },
  {
   "cell_type": "markdown",
   "id": "a9f8af98",
   "metadata": {},
   "source": [
    "### Hashable vs Unhashable"
   ]
  },
  {
   "cell_type": "code",
   "execution_count": 2,
   "id": "486e78fa",
   "metadata": {},
   "outputs": [
    {
     "name": "stdout",
     "output_type": "stream",
     "text": [
      "True True\n",
      "\tSleep and eat\n",
      "True False\n",
      "\tGo to sleep\n",
      "False True\n",
      "\tGo eat\n",
      "False False\n",
      "\tHave a nice day\n"
     ]
    }
   ],
   "source": [
    "def decision(tired,hungry):\n",
    "\tactions = {\n",
    "\t\t(True,True): \"Sleep and eat\",\n",
    "\t\t(True,False): \"Go to sleep\",\n",
    "\t\t(False,False): \"Have a nice day\",\n",
    "\t\t(False,True): \"Go eat\"\n",
    "\t}\n",
    "\treturn actions[(tired,hungry)]\n",
    "\t\n",
    "choices = [\n",
    "(True,True),\n",
    "(True,False),\n",
    "(False,True),\n",
    "(False,False)\n",
    "]\n",
    "\n",
    "for i,j in choices:\n",
    "\tprint(i,j)\n",
    "\tprint(\"\\t\" + decision(i,j))"
   ]
  },
  {
   "cell_type": "code",
   "execution_count": 84,
   "id": "466a337f",
   "metadata": {},
   "outputs": [],
   "source": [
    "import sys"
   ]
  },
  {
   "cell_type": "code",
   "execution_count": 92,
   "id": "fb925819",
   "metadata": {},
   "outputs": [],
   "source": [
    "a = sys.intern(\"a b c d\")"
   ]
  },
  {
   "cell_type": "code",
   "execution_count": 96,
   "id": "f33e5773",
   "metadata": {},
   "outputs": [],
   "source": [
    "b = sys.intern(\"a b c d\")"
   ]
  },
  {
   "cell_type": "code",
   "execution_count": 94,
   "id": "7de320a1",
   "metadata": {},
   "outputs": [
    {
     "data": {
      "text/plain": [
       "(48, 48)"
      ]
     },
     "execution_count": 94,
     "metadata": {},
     "output_type": "execute_result"
    }
   ],
   "source": [
    "sys.getsizeof(a), sys.getsizeof(b)"
   ]
  },
  {
   "cell_type": "code",
   "execution_count": 116,
   "id": "02fc412c",
   "metadata": {},
   "outputs": [],
   "source": [
    "c = 258\n",
    "d = 258"
   ]
  },
  {
   "cell_type": "code",
   "execution_count": 115,
   "id": "24f071a0",
   "metadata": {},
   "outputs": [
    {
     "data": {
      "text/plain": [
       "False"
      ]
     },
     "execution_count": 115,
     "metadata": {},
     "output_type": "execute_result"
    }
   ],
   "source": [
    "c is d"
   ]
  },
  {
   "cell_type": "code",
   "execution_count": 118,
   "id": "e57e5e4a",
   "metadata": {},
   "outputs": [],
   "source": [
    "_int_cache = {}\n",
    "\n",
    "def intern_int(n:int) -> int:\n",
    "    if n not in _int_cache:\n",
    "        _int_cache[n] = n\n",
    "    return _int_cache[n]"
   ]
  },
  {
   "cell_type": "code",
   "execution_count": 127,
   "id": "52d83f25",
   "metadata": {},
   "outputs": [],
   "source": [
    "a = intern_int(1000)\n"
   ]
  },
  {
   "cell_type": "code",
   "execution_count": 128,
   "id": "c0cd8438",
   "metadata": {},
   "outputs": [],
   "source": [
    "b = intern_int(1000)"
   ]
  },
  {
   "cell_type": "code",
   "execution_count": 129,
   "id": "7242e9aa",
   "metadata": {},
   "outputs": [
    {
     "data": {
      "text/plain": [
       "True"
      ]
     },
     "execution_count": 129,
     "metadata": {},
     "output_type": "execute_result"
    }
   ],
   "source": [
    "a is b"
   ]
  },
  {
   "cell_type": "code",
   "execution_count": null,
   "id": "efb56b61",
   "metadata": {},
   "outputs": [],
   "source": [
    "b "
   ]
  }
 ],
 "metadata": {
  "kernelspec": {
   "display_name": "base",
   "language": "python",
   "name": "python3"
  },
  "language_info": {
   "codemirror_mode": {
    "name": "ipython",
    "version": 3
   },
   "file_extension": ".py",
   "mimetype": "text/x-python",
   "name": "python",
   "nbconvert_exporter": "python",
   "pygments_lexer": "ipython3",
   "version": "3.13.5"
  }
 },
 "nbformat": 4,
 "nbformat_minor": 5
}
